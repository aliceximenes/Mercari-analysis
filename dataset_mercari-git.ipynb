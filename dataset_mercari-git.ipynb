{
 "cells": [
  {
   "cell_type": "code",
   "execution_count": 20,
   "metadata": {},
   "outputs": [
    {
     "name": "stderr",
     "output_type": "stream",
     "text": [
      "[nltk_data] Downloading package stopwords to\n",
      "[nltk_data]     C:\\Users\\anaal\\AppData\\Roaming\\nltk_data...\n",
      "[nltk_data]   Package stopwords is already up-to-date!\n"
     ]
    }
   ],
   "source": [
    "import pandas as pd\n",
    "import numpy as np\n",
    "import random\n",
    "import regex as re\n",
    "import string\n",
    "import nltk\n",
    "nltk.download('stopwords')\n",
    "from sklearn.feature_extraction.text import CountVectorizer, TfidfVectorizer\n",
    "import matplotlib.pyplot as plt\n",
    "import seaborn as sns\n",
    "from scipy.stats import norm\n",
    "from scipy.sparse import hstack\n",
    "from sklearn.model_selection import train_test_split\n",
    "from sklearn.linear_model import LinearRegression\n",
    "from sklearn.ensemble import RandomForestRegressor\n",
    "import lightgbm as lgb\n",
    "from sklearn.linear_model import RidgeCV, LassoCV\n",
    "from sklearn.model_selection import GridSearchCV\n",
    "from sklearn.decomposition import PCA\n",
    "import xgboost as xgb\n",
    "from sklearn import metrics"
   ]
  },
  {
   "cell_type": "code",
   "execution_count": 5,
   "metadata": {},
   "outputs": [
    {
     "data": {
      "text/html": [
       "<div>\n",
       "<style scoped>\n",
       "    .dataframe tbody tr th:only-of-type {\n",
       "        vertical-align: middle;\n",
       "    }\n",
       "\n",
       "    .dataframe tbody tr th {\n",
       "        vertical-align: top;\n",
       "    }\n",
       "\n",
       "    .dataframe thead th {\n",
       "        text-align: right;\n",
       "    }\n",
       "</style>\n",
       "<table border=\"1\" class=\"dataframe\">\n",
       "  <thead>\n",
       "    <tr style=\"text-align: right;\">\n",
       "      <th></th>\n",
       "      <th>train_id</th>\n",
       "      <th>name</th>\n",
       "      <th>item_condition_id</th>\n",
       "      <th>category_name</th>\n",
       "      <th>brand_name</th>\n",
       "      <th>price</th>\n",
       "      <th>shipping</th>\n",
       "      <th>item_description</th>\n",
       "    </tr>\n",
       "  </thead>\n",
       "  <tbody>\n",
       "    <tr>\n",
       "      <th>0</th>\n",
       "      <td>0</td>\n",
       "      <td>MLB Cincinnati Reds T Shirt Size XL</td>\n",
       "      <td>3</td>\n",
       "      <td>Men/Tops/T-shirts</td>\n",
       "      <td>NaN</td>\n",
       "      <td>10.0</td>\n",
       "      <td>1</td>\n",
       "      <td>No description yet</td>\n",
       "    </tr>\n",
       "    <tr>\n",
       "      <th>1</th>\n",
       "      <td>1</td>\n",
       "      <td>Razer BlackWidow Chroma Keyboard</td>\n",
       "      <td>3</td>\n",
       "      <td>Electronics/Computers &amp; Tablets/Components &amp; P...</td>\n",
       "      <td>Razer</td>\n",
       "      <td>52.0</td>\n",
       "      <td>0</td>\n",
       "      <td>This keyboard is in great condition and works ...</td>\n",
       "    </tr>\n",
       "    <tr>\n",
       "      <th>2</th>\n",
       "      <td>2</td>\n",
       "      <td>AVA-VIV Blouse</td>\n",
       "      <td>1</td>\n",
       "      <td>Women/Tops &amp; Blouses/Blouse</td>\n",
       "      <td>Target</td>\n",
       "      <td>10.0</td>\n",
       "      <td>1</td>\n",
       "      <td>Adorable top with a hint of lace and a key hol...</td>\n",
       "    </tr>\n",
       "    <tr>\n",
       "      <th>3</th>\n",
       "      <td>3</td>\n",
       "      <td>Leather Horse Statues</td>\n",
       "      <td>1</td>\n",
       "      <td>Home/Home Décor/Home Décor Accents</td>\n",
       "      <td>NaN</td>\n",
       "      <td>35.0</td>\n",
       "      <td>1</td>\n",
       "      <td>New with tags. Leather horses. Retail for [rm]...</td>\n",
       "    </tr>\n",
       "    <tr>\n",
       "      <th>4</th>\n",
       "      <td>4</td>\n",
       "      <td>24K GOLD plated rose</td>\n",
       "      <td>1</td>\n",
       "      <td>Women/Jewelry/Necklaces</td>\n",
       "      <td>NaN</td>\n",
       "      <td>44.0</td>\n",
       "      <td>0</td>\n",
       "      <td>Complete with certificate of authenticity</td>\n",
       "    </tr>\n",
       "  </tbody>\n",
       "</table>\n",
       "</div>"
      ],
      "text/plain": [
       "   train_id                                 name  item_condition_id  \\\n",
       "0         0  MLB Cincinnati Reds T Shirt Size XL                  3   \n",
       "1         1     Razer BlackWidow Chroma Keyboard                  3   \n",
       "2         2                       AVA-VIV Blouse                  1   \n",
       "3         3                Leather Horse Statues                  1   \n",
       "4         4                 24K GOLD plated rose                  1   \n",
       "\n",
       "                                       category_name brand_name  price  \\\n",
       "0                                  Men/Tops/T-shirts        NaN   10.0   \n",
       "1  Electronics/Computers & Tablets/Components & P...      Razer   52.0   \n",
       "2                        Women/Tops & Blouses/Blouse     Target   10.0   \n",
       "3                 Home/Home Décor/Home Décor Accents        NaN   35.0   \n",
       "4                            Women/Jewelry/Necklaces        NaN   44.0   \n",
       "\n",
       "   shipping                                   item_description  \n",
       "0         1                                 No description yet  \n",
       "1         0  This keyboard is in great condition and works ...  \n",
       "2         1  Adorable top with a hint of lace and a key hol...  \n",
       "3         1  New with tags. Leather horses. Retail for [rm]...  \n",
       "4         0          Complete with certificate of authenticity  "
      ]
     },
     "execution_count": 5,
     "metadata": {},
     "output_type": "execute_result"
    }
   ],
   "source": [
    "df_train = pd.read_csv('train.tsv', sep='\\t')\n",
    "df_train.head()"
   ]
  },
  {
   "cell_type": "markdown",
   "metadata": {},
   "source": [
    "Variáveis:\n",
    "\n",
    "- name: nome do produto\n",
    "- item_condition_id: condição do produto. Vai de 1 a 5, sendo 1 o produto é novo\n",
    "- category_name: categoria do produto\n",
    "- brand_name: nome da marca\n",
    "- price: preço do produto\n",
    "- shipping: taxa de envio, 1 se foi paga pelo vendedor e 0 se foi pelo comprador\n",
    "- item_description: descrição do produto"
   ]
  },
  {
   "cell_type": "code",
   "execution_count": 6,
   "metadata": {},
   "outputs": [
    {
     "name": "stdout",
     "output_type": "stream",
     "text": [
      "Shape treino: (1482535, 8)\n"
     ]
    }
   ],
   "source": [
    "print('Shape treino:',df_train.shape)"
   ]
  },
  {
   "cell_type": "code",
   "execution_count": 360,
   "metadata": {},
   "outputs": [
    {
     "name": "stdout",
     "output_type": "stream",
     "text": [
      "<class 'pandas.core.frame.DataFrame'>\n",
      "RangeIndex: 1482535 entries, 0 to 1482534\n",
      "Data columns (total 8 columns):\n",
      " #   Column             Non-Null Count    Dtype  \n",
      "---  ------             --------------    -----  \n",
      " 0   train_id           1482535 non-null  int64  \n",
      " 1   name               1482535 non-null  object \n",
      " 2   item_condition_id  1482535 non-null  int64  \n",
      " 3   category_name      1476208 non-null  object \n",
      " 4   brand_name         849853 non-null   object \n",
      " 5   price              1482535 non-null  float64\n",
      " 6   shipping           1482535 non-null  int64  \n",
      " 7   item_description   1482531 non-null  object \n",
      "dtypes: float64(1), int64(3), object(4)\n",
      "memory usage: 90.5+ MB\n"
     ]
    }
   ],
   "source": [
    "df_train.info()"
   ]
  },
  {
   "cell_type": "markdown",
   "metadata": {},
   "source": [
    "Variáveis de categoria e nome do produto possuem valores missing:"
   ]
  },
  {
   "cell_type": "code",
   "execution_count": 7,
   "metadata": {},
   "outputs": [
    {
     "data": {
      "text/plain": [
       "train_id                  0\n",
       "name                      0\n",
       "item_condition_id         0\n",
       "category_name          6327\n",
       "brand_name           632682\n",
       "price                     0\n",
       "shipping                  0\n",
       "item_description          4\n",
       "dtype: int64"
      ]
     },
     "execution_count": 7,
     "metadata": {},
     "output_type": "execute_result"
    }
   ],
   "source": [
    "df_train.isna().sum()"
   ]
  },
  {
   "cell_type": "markdown",
   "metadata": {},
   "source": [
    "## Análise Exploratória"
   ]
  },
  {
   "cell_type": "markdown",
   "metadata": {},
   "source": [
    "**Price**\n",
    "\n",
    "A distribuição dos preços é assimétrica a direita. A maioria dos itens possuem preços baixos. "
   ]
  },
  {
   "cell_type": "code",
   "execution_count": 8,
   "metadata": {},
   "outputs": [
    {
     "data": {
      "text/plain": [
       "<matplotlib.axes._subplots.AxesSubplot at 0x24c49f11248>"
      ]
     },
     "execution_count": 8,
     "metadata": {},
     "output_type": "execute_result"
    },
    {
     "data": {
      "image/png": "[encoded data removed]",
      "text/plain": [
       "<Figure size 1296x288 with 1 Axes>"
      ]
     },
     "metadata": {},
     "output_type": "display_data"
    }
   ],
   "source": [
    "sns.set(rc={'figure.figsize':(18, 4)})\n",
    "sns.distplot(df_train.price,kde=False)"
   ]
  },
  {
   "cell_type": "markdown",
   "metadata": {},
   "source": [
    "Aplicando a transformação logarítimica, vemos que a distribuição dos preços agora se assemelha a uma distribuição normal."
   ]
  },
  {
   "cell_type": "code",
   "execution_count": 9,
   "metadata": {},
   "outputs": [
    {
     "data": {
      "text/plain": [
       "<matplotlib.axes._subplots.AxesSubplot at 0x24c0a502248>"
      ]
     },
     "execution_count": 9,
     "metadata": {},
     "output_type": "execute_result"
    },
    {
     "data": {
      "image/png": "[encoded data removed]",
      "text/plain": [
       "<Figure size 1296x288 with 1 Axes>"
      ]
     },
     "metadata": {},
     "output_type": "display_data"
    }
   ],
   "source": [
    "df_train['log_price']=np.log1p(df_train.price)\n",
    "\n",
    "sns.distplot(df_train.log_price, fit=norm, kde=False)"
   ]
  },
  {
   "cell_type": "markdown",
   "metadata": {},
   "source": [
    "**item_condition_id**\n",
    "\n",
    "A maioria dos itens vendidos são novos e em boas condiçoes"
   ]
  },
  {
   "cell_type": "code",
   "execution_count": 10,
   "metadata": {},
   "outputs": [
    {
     "data": {
      "image/png": "[encoded data removed]",
      "text/plain": [
       "<Figure size 1296x288 with 1 Axes>"
      ]
     },
     "metadata": {},
     "output_type": "display_data"
    }
   ],
   "source": [
    "fig = sns.countplot(data=df_train, y = 'item_condition_id')"
   ]
  },
  {
   "cell_type": "code",
   "execution_count": 11,
   "metadata": {},
   "outputs": [
    {
     "data": {
      "text/plain": [
       "(0, 50)"
      ]
     },
     "execution_count": 11,
     "metadata": {},
     "output_type": "execute_result"
    },
    {
     "data": {
      "image/png": "[encoded data removed]",
      "text/plain": [
       "<Figure size 1296x288 with 1 Axes>"
      ]
     },
     "metadata": {},
     "output_type": "display_data"
    }
   ],
   "source": [
    "ax=sns.boxplot(df_train.item_condition_id, df_train.price)\n",
    "ax.set_ylim([0,50])"
   ]
  },
  {
   "cell_type": "markdown",
   "metadata": {},
   "source": [
    "**shipping**\n",
    "\n",
    "A taxa de remessa é frequentemente paga pelo vendedor, mas a frequência que os compradores pagam é alta também."
   ]
  },
  {
   "cell_type": "code",
   "execution_count": 12,
   "metadata": {},
   "outputs": [
    {
     "data": {
      "image/png": "[encoded data removed]",
      "text/plain": [
       "<Figure size 1296x288 with 1 Axes>"
      ]
     },
     "metadata": {},
     "output_type": "display_data"
    }
   ],
   "source": [
    "fig = sns.countplot(data=df_train, x='shipping')"
   ]
  },
  {
   "cell_type": "code",
   "execution_count": 13,
   "metadata": {},
   "outputs": [
    {
     "data": {
      "text/plain": [
       "(0, 100)"
      ]
     },
     "execution_count": 13,
     "metadata": {},
     "output_type": "execute_result"
    },
    {
     "data": {
      "image/png": "[encoded data removed]",
      "text/plain": [
       "<Figure size 1296x288 with 1 Axes>"
      ]
     },
     "metadata": {},
     "output_type": "display_data"
    }
   ],
   "source": [
    "ax=sns.boxplot(df_train.shipping, df_train.price )\n",
    "ax.set_ylim([0,100])"
   ]
  },
  {
   "cell_type": "markdown",
   "metadata": {},
   "source": [
    "**brand_name**\n",
    "\n",
    "O preço das marcas mais frequentes são baixos e próximos entre si. O box-plot retratou novamente a característica assimétrica a direita do preço e sendo uma variável com muitos outliers reafirma o uso da transformação logarítmica."
   ]
  },
  {
   "cell_type": "code",
   "execution_count": 14,
   "metadata": {},
   "outputs": [
    {
     "data": {
      "text/plain": [
       "(0, 100)"
      ]
     },
     "execution_count": 14,
     "metadata": {},
     "output_type": "execute_result"
    },
    {
     "data": {
      "image/png": "[encoded data removed]",
      "text/plain": [
       "<Figure size 1296x288 with 1 Axes>"
      ]
     },
     "metadata": {},
     "output_type": "display_data"
    }
   ],
   "source": [
    "filtro = df_train.brand_name.value_counts().index.values.astype('str')[:15]\n",
    "\n",
    "x = df_train[df_train.brand_name.isin(filtro)]['brand_name']\n",
    "y = df_train[df_train.brand_name.isin(filtro)]['price'].values\n",
    "ax = sns.boxplot(x, y)\n",
    "ax.set_ylim([0, 100])   "
   ]
  },
  {
   "cell_type": "code",
   "execution_count": 15,
   "metadata": {},
   "outputs": [
    {
     "name": "stdout",
     "output_type": "stream",
     "text": [
      "Existem 4809 marcas únicas na base de treino:\n"
     ]
    }
   ],
   "source": [
    "print(\"Existem %d marcas únicas na base de treino:\" % df_train['brand_name'].nunique())"
   ]
  },
  {
   "cell_type": "code",
   "execution_count": 16,
   "metadata": {},
   "outputs": [
    {
     "data": {
      "text/plain": [
       "brand_name\n",
       "PINK                   54088\n",
       "Nike                   54043\n",
       "Victoria's Secret      48036\n",
       "LuLaRoe                31024\n",
       "Apple                  17322\n",
       "FOREVER 21             15186\n",
       "Nintendo               15007\n",
       "Lululemon              14558\n",
       "Michael Kors           13928\n",
       "American Eagle         13254\n",
       "Rae Dunn               12305\n",
       "Sephora                12172\n",
       "Coach                  10463\n",
       "Disney                 10360\n",
       "Bath & Body Works      10354\n",
       "Adidas                 10202\n",
       "Funko                   9237\n",
       "Under Armour            8461\n",
       "Sony                    7994\n",
       "Old Navy                7567\n",
       "Hollister               6948\n",
       "Carter's                6385\n",
       "Urban Decay             6210\n",
       "The North Face          6172\n",
       "Independent             5902\n",
       "Too Faced               5794\n",
       "Xbox                    5709\n",
       "Brandy Melville         5680\n",
       "Kate Spade              5411\n",
       "MAC                     5302\n",
       "Kendra Scott            5097\n",
       "Gap                     5088\n",
       "Tarte                   4984\n",
       "UGG Australia           4676\n",
       "VANS                    4588\n",
       "Polo Ralph Lauren       4547\n",
       "Charlotte Russe         4177\n",
       "Samsung                 4077\n",
       "SeneGence               4045\n",
       "Vera Bradley            4036\n",
       "Ralph Lauren            4007\n",
       "Converse                3978\n",
       "H&M                     3748\n",
       "Air Jordan              3511\n",
       "Free People             3483\n",
       "Tory Burch              3447\n",
       "Miss Me                 3270\n",
       "Express                 3211\n",
       "Louis Vuitton           3187\n",
       "Abercrombie & Fitch     3156\n",
       "dtype: int64"
      ]
     },
     "execution_count": 16,
     "metadata": {},
     "output_type": "execute_result"
    }
   ],
   "source": [
    "#Top 50 das marcas\n",
    "df_train.groupby(['brand_name']).size().sort_values(ascending=False)[:50]"
   ]
  },
  {
   "cell_type": "markdown",
   "metadata": {},
   "source": [
    "**item_description**\n",
    "\n",
    "A grande maioria dos itens não tem descrição e termos parecidos se repetem com frequência."
   ]
  },
  {
   "cell_type": "code",
   "execution_count": 17,
   "metadata": {},
   "outputs": [
    {
     "data": {
      "text/plain": [
       "item_description\n",
       "No description yet     82489\n",
       "New                     4099\n",
       "Brand new               3058\n",
       "Good condition          1274\n",
       "Great condition         1158\n",
       "Like new                 987\n",
       "Never worn               837\n",
       "NWT                      822\n",
       "New with tags            644\n",
       "Never used               605\n",
       "Excellent condition      604\n",
       "Worn once                582\n",
       "Brand new with tags      518\n",
       "Size small               453\n",
       "Brand new!               447\n",
       "New in box               442\n",
       "BNWT                     435\n",
       "Brand New                424\n",
       "Bundle                   401\n",
       "Brand new.               389\n",
       "dtype: int64"
      ]
     },
     "execution_count": 17,
     "metadata": {},
     "output_type": "execute_result"
    }
   ],
   "source": [
    "df_train.groupby(['item_description']).size().sort_values(ascending=False)[:20]"
   ]
  },
  {
   "cell_type": "markdown",
   "metadata": {},
   "source": [
    "Por ser um campo com dados não estruturados e de difícil tratamento, foi criado duas variáveis a partir de seu dados. \n",
    "\n",
    "- description_length: Tamanho da descrição, tirando acento e pontuações.\n",
    "- description_boolean: Tem o valor 0 se possuir a categoria 'No description yet' e 1 caso contrário"
   ]
  },
  {
   "cell_type": "markdown",
   "metadata": {},
   "source": [
    "A função abaixo transforma o texto em *lower case*, retira *stopwords*, pontuações e números. Buscando deixar apenas as palavras relevantes do texto."
   ]
  },
  {
   "cell_type": "code",
   "execution_count": 26,
   "metadata": {},
   "outputs": [],
   "source": [
    "# ref https://www.kaggle.com/thykhuely/mercari-interactive-eda-topic-modelling\n",
    "\n",
    "stop_words = nltk.corpus.stopwords.words('english')\n",
    "\n",
    "def wordCount(text):\n",
    "    try:\n",
    "        text = text.lower()\n",
    "        regex = re.compile('[' +re.escape(string.punctuation) + '0-9\\\\r\\\\t\\\\n]')\n",
    "        txt = regex.sub(\" \", text)\n",
    "        \n",
    "        filter_ = 'no description yet'\n",
    "        txt = str(np.where(txt == filter_, ' ', txt))\n",
    "  \n",
    "        words = [w for w in txt.split(\" \") \\\n",
    "                 if not w in stop_words and not w in (' ')]\n",
    "        return len(words)\n",
    "    except: \n",
    "        return 0"
   ]
  },
  {
   "cell_type": "markdown",
   "metadata": {},
   "source": [
    "Criação da variável description_length:"
   ]
  },
  {
   "cell_type": "code",
   "execution_count": 27,
   "metadata": {},
   "outputs": [],
   "source": [
    "df_train['description_length'] = df_train['item_description'].apply(lambda x: wordCount(x))"
   ]
  },
  {
   "cell_type": "markdown",
   "metadata": {},
   "source": [
    "Box-plot do tamanho da descrição em relação ao preço:"
   ]
  },
  {
   "cell_type": "code",
   "execution_count": 28,
   "metadata": {},
   "outputs": [
    {
     "data": {
      "text/plain": [
       "(0, 60)"
      ]
     },
     "execution_count": 28,
     "metadata": {},
     "output_type": "execute_result"
    },
    {
     "data": {
      "image/png": "[encoded data removed]",
      "text/plain": [
       "<Figure size 1296x288 with 1 Axes>"
      ]
     },
     "metadata": {},
     "output_type": "display_data"
    }
   ],
   "source": [
    "filtro=df_train.description_length.value_counts().index.values.astype('str')[:20]\n",
    "\n",
    "x=df_train[df_train.description_length.isin(filtro)]['description_length']\n",
    "y=df_train[df_train.description_length.isin(filtro)]['price'].values\n",
    "\n",
    "ax=sns.boxplot(x,y)\n",
    "ax.set_ylim([0,60])"
   ]
  },
  {
   "cell_type": "markdown",
   "metadata": {},
   "source": [
    "Criação da variável description_boolean:"
   ]
  },
  {
   "cell_type": "code",
   "execution_count": 29,
   "metadata": {
    "scrolled": true
   },
   "outputs": [
    {
     "data": {
      "text/plain": [
       "description_boolean\n",
       "0      82489\n",
       "1    1400046\n",
       "dtype: int64"
      ]
     },
     "execution_count": 29,
     "metadata": {},
     "output_type": "execute_result"
    }
   ],
   "source": [
    "filtro = df_train['item_description'].value_counts().index.values.astype('str')[0]\n",
    "df_train['description_boolean']=np.where(df_train['item_description']==filtro,0,1)\n",
    "\n",
    "df_train.groupby(['description_boolean']).size()"
   ]
  },
  {
   "cell_type": "code",
   "execution_count": 30,
   "metadata": {
    "scrolled": true
   },
   "outputs": [
    {
     "data": {
      "text/plain": [
       "(0, 70)"
      ]
     },
     "execution_count": 30,
     "metadata": {},
     "output_type": "execute_result"
    },
    {
     "data": {
      "image/png": "[encoded data removed]",
      "text/plain": [
       "<Figure size 1296x288 with 1 Axes>"
      ]
     },
     "metadata": {},
     "output_type": "display_data"
    }
   ],
   "source": [
    "#Distribuiçao em relacao aos preços\n",
    "ax=sns.boxplot(df_train.description_boolean, df_train.price)\n",
    "ax.set_ylim([0, 70])  "
   ]
  },
  {
   "cell_type": "markdown",
   "metadata": {},
   "source": [
    "**category_name**"
   ]
  },
  {
   "cell_type": "code",
   "execution_count": 32,
   "metadata": {},
   "outputs": [
    {
     "data": {
      "text/plain": [
       "category_name\n",
       "Women/Athletic Apparel/Pants, Tights, Leggings                 60177\n",
       "Women/Tops & Blouses/T-Shirts                                  46380\n",
       "Beauty/Makeup/Face                                             34335\n",
       "Beauty/Makeup/Lips                                             29910\n",
       "Electronics/Video Games & Consoles/Games                       26557\n",
       "Beauty/Makeup/Eyes                                             25215\n",
       "Electronics/Cell Phones & Accessories/Cases, Covers & Skins    24676\n",
       "Women/Underwear/Bras                                           21274\n",
       "Women/Tops & Blouses/Tank, Cami                                20284\n",
       "Women/Tops & Blouses/Blouse                                    20284\n",
       "Women/Dresses/Above Knee, Mini                                 20082\n",
       "Women/Jewelry/Necklaces                                        19758\n",
       "Women/Athletic Apparel/Shorts                                  19528\n",
       "Beauty/Makeup/Makeup Palettes                                  19103\n",
       "Women/Shoes/Boots                                              18864\n",
       "Beauty/Fragrance/Women                                         18628\n",
       "Beauty/Skin Care/Face                                          15836\n",
       "Women/Women's Handbags/Shoulder Bag                            15328\n",
       "Men/Tops/T-shirts                                              15108\n",
       "Women/Dresses/Knee-Length                                      14770\n",
       "dtype: int64"
      ]
     },
     "execution_count": 32,
     "metadata": {},
     "output_type": "execute_result"
    }
   ],
   "source": [
    "df_train.groupby(['category_name']).size().sort_values(ascending=False)[:20]"
   ]
  },
  {
   "cell_type": "markdown",
   "metadata": {},
   "source": [
    "A grande maioria dos itens são descritos em 3 categorias. Dessa forma, iremos criar 3 variáveis a partir da decomposição da 'category_name'."
   ]
  },
  {
   "cell_type": "code",
   "execution_count": 33,
   "metadata": {},
   "outputs": [
    {
     "name": "stdout",
     "output_type": "stream",
     "text": [
      "Produtos com 1 categoria: 0\n",
      "Produtos com 2 categoria: 0\n",
      "Produtos com 3 categorias: 1471819\n",
      "Produtos com mais que 2 categorias: 10716\n"
     ]
    }
   ],
   "source": [
    "qt_1categ = df_train[df_train.category_name.str.count('/')==0].shape[0]\n",
    "qt_2categ = df_train[df_train.category_name.str.count('/')==1].shape[0]\n",
    "qt_3categ = df_train[df_train.category_name.str.count('/')==2].shape[0]\n",
    "qt_dif2_categ = df_train[df_train.category_name.str.count('/')!=2].shape[0]\n",
    "\n",
    "print('Produtos com 1 categoria:', qt_1categ)\n",
    "print('Produtos com 2 categoria:', qt_2categ)\n",
    "print('Produtos com 3 categorias:', qt_3categ)\n",
    "print('Produtos com mais que 2 categorias:', qt_dif2_categ)"
   ]
  },
  {
   "cell_type": "code",
   "execution_count": 34,
   "metadata": {
    "scrolled": true
   },
   "outputs": [
    {
     "data": {
      "text/html": [
       "<div>\n",
       "<style scoped>\n",
       "    .dataframe tbody tr th:only-of-type {\n",
       "        vertical-align: middle;\n",
       "    }\n",
       "\n",
       "    .dataframe tbody tr th {\n",
       "        vertical-align: top;\n",
       "    }\n",
       "\n",
       "    .dataframe thead th {\n",
       "        text-align: right;\n",
       "    }\n",
       "</style>\n",
       "<table border=\"1\" class=\"dataframe\">\n",
       "  <thead>\n",
       "    <tr style=\"text-align: right;\">\n",
       "      <th></th>\n",
       "      <th>train_id</th>\n",
       "      <th>name</th>\n",
       "      <th>item_condition_id</th>\n",
       "      <th>category_name</th>\n",
       "      <th>brand_name</th>\n",
       "      <th>price</th>\n",
       "      <th>shipping</th>\n",
       "      <th>item_description</th>\n",
       "      <th>log_price</th>\n",
       "      <th>description_length</th>\n",
       "      <th>description_boolean</th>\n",
       "      <th>cat_level_0</th>\n",
       "      <th>cat_level_1</th>\n",
       "      <th>cat_level_2</th>\n",
       "    </tr>\n",
       "  </thead>\n",
       "  <tbody>\n",
       "    <tr>\n",
       "      <th>0</th>\n",
       "      <td>0</td>\n",
       "      <td>MLB Cincinnati Reds T Shirt Size XL</td>\n",
       "      <td>3</td>\n",
       "      <td>Men/Tops/T-shirts</td>\n",
       "      <td>NaN</td>\n",
       "      <td>10.0</td>\n",
       "      <td>1</td>\n",
       "      <td>No description yet</td>\n",
       "      <td>2.397895</td>\n",
       "      <td>0</td>\n",
       "      <td>0</td>\n",
       "      <td>Men</td>\n",
       "      <td>Tops</td>\n",
       "      <td>T-shirts</td>\n",
       "    </tr>\n",
       "    <tr>\n",
       "      <th>1</th>\n",
       "      <td>1</td>\n",
       "      <td>Razer BlackWidow Chroma Keyboard</td>\n",
       "      <td>3</td>\n",
       "      <td>Electronics/Computers &amp; Tablets/Components &amp; P...</td>\n",
       "      <td>Razer</td>\n",
       "      <td>52.0</td>\n",
       "      <td>0</td>\n",
       "      <td>This keyboard is in great condition and works ...</td>\n",
       "      <td>3.970292</td>\n",
       "      <td>18</td>\n",
       "      <td>1</td>\n",
       "      <td>Electronics</td>\n",
       "      <td>Computers &amp; Tablets</td>\n",
       "      <td>Components &amp; Parts</td>\n",
       "    </tr>\n",
       "    <tr>\n",
       "      <th>2</th>\n",
       "      <td>2</td>\n",
       "      <td>AVA-VIV Blouse</td>\n",
       "      <td>1</td>\n",
       "      <td>Women/Tops &amp; Blouses/Blouse</td>\n",
       "      <td>Target</td>\n",
       "      <td>10.0</td>\n",
       "      <td>1</td>\n",
       "      <td>Adorable top with a hint of lace and a key hol...</td>\n",
       "      <td>2.397895</td>\n",
       "      <td>14</td>\n",
       "      <td>1</td>\n",
       "      <td>Women</td>\n",
       "      <td>Tops &amp; Blouses</td>\n",
       "      <td>Blouse</td>\n",
       "    </tr>\n",
       "    <tr>\n",
       "      <th>3</th>\n",
       "      <td>3</td>\n",
       "      <td>Leather Horse Statues</td>\n",
       "      <td>1</td>\n",
       "      <td>Home/Home Décor/Home Décor Accents</td>\n",
       "      <td>NaN</td>\n",
       "      <td>35.0</td>\n",
       "      <td>1</td>\n",
       "      <td>New with tags. Leather horses. Retail for [rm]...</td>\n",
       "      <td>3.583519</td>\n",
       "      <td>18</td>\n",
       "      <td>1</td>\n",
       "      <td>Home</td>\n",
       "      <td>Home Décor</td>\n",
       "      <td>Home Décor Accents</td>\n",
       "    </tr>\n",
       "    <tr>\n",
       "      <th>4</th>\n",
       "      <td>4</td>\n",
       "      <td>24K GOLD plated rose</td>\n",
       "      <td>1</td>\n",
       "      <td>Women/Jewelry/Necklaces</td>\n",
       "      <td>NaN</td>\n",
       "      <td>44.0</td>\n",
       "      <td>0</td>\n",
       "      <td>Complete with certificate of authenticity</td>\n",
       "      <td>3.806662</td>\n",
       "      <td>3</td>\n",
       "      <td>1</td>\n",
       "      <td>Women</td>\n",
       "      <td>Jewelry</td>\n",
       "      <td>Necklaces</td>\n",
       "    </tr>\n",
       "  </tbody>\n",
       "</table>\n",
       "</div>"
      ],
      "text/plain": [
       "   train_id                                 name  item_condition_id  \\\n",
       "0         0  MLB Cincinnati Reds T Shirt Size XL                  3   \n",
       "1         1     Razer BlackWidow Chroma Keyboard                  3   \n",
       "2         2                       AVA-VIV Blouse                  1   \n",
       "3         3                Leather Horse Statues                  1   \n",
       "4         4                 24K GOLD plated rose                  1   \n",
       "\n",
       "                                       category_name brand_name  price  \\\n",
       "0                                  Men/Tops/T-shirts        NaN   10.0   \n",
       "1  Electronics/Computers & Tablets/Components & P...      Razer   52.0   \n",
       "2                        Women/Tops & Blouses/Blouse     Target   10.0   \n",
       "3                 Home/Home Décor/Home Décor Accents        NaN   35.0   \n",
       "4                            Women/Jewelry/Necklaces        NaN   44.0   \n",
       "\n",
       "   shipping                                   item_description  log_price  \\\n",
       "0         1                                 No description yet   2.397895   \n",
       "1         0  This keyboard is in great condition and works ...   3.970292   \n",
       "2         1  Adorable top with a hint of lace and a key hol...   2.397895   \n",
       "3         1  New with tags. Leather horses. Retail for [rm]...   3.583519   \n",
       "4         0          Complete with certificate of authenticity   3.806662   \n",
       "\n",
       "   description_length  description_boolean  cat_level_0          cat_level_1  \\\n",
       "0                   0                    0          Men                 Tops   \n",
       "1                  18                    1  Electronics  Computers & Tablets   \n",
       "2                  14                    1        Women       Tops & Blouses   \n",
       "3                  18                    1         Home           Home Décor   \n",
       "4                   3                    1        Women              Jewelry   \n",
       "\n",
       "          cat_level_2  \n",
       "0            T-shirts  \n",
       "1  Components & Parts  \n",
       "2              Blouse  \n",
       "3  Home Décor Accents  \n",
       "4           Necklaces  "
      ]
     },
     "execution_count": 34,
     "metadata": {},
     "output_type": "execute_result"
    }
   ],
   "source": [
    "def transform_split_category_name(df):\n",
    "    category_split = df['category_name'].str.split(r'/', n=2, expand=True)\n",
    "    for i in [0,1,2]:\n",
    "        df['cat_level_' + str(i)] = category_split[i]\n",
    "    return df\n",
    "\n",
    "df_train=transform_split_category_name(df_train)\n",
    "df_train.head()"
   ]
  },
  {
   "cell_type": "markdown",
   "metadata": {},
   "source": [
    "Quais as marcas mais comuns da categoria Electronics?"
   ]
  },
  {
   "cell_type": "code",
   "execution_count": 35,
   "metadata": {
    "scrolled": true
   },
   "outputs": [
    {
     "data": {
      "text/plain": [
       "[Text(0, 0.5, 'Price'), Text(0.5, 0, 'Brand')]"
      ]
     },
     "execution_count": 35,
     "metadata": {},
     "output_type": "execute_result"
    },
    {
     "data": {
      "image/png": "[encoded data removed]",
      "text/plain": [
       "<Figure size 1296x288 with 1 Axes>"
      ]
     },
     "metadata": {},
     "output_type": "display_data"
    }
   ],
   "source": [
    "filtro = df_train[df_train['cat_level_0'] == 'Electronics'].brand_name.value_counts().index.values.astype('str')[:20]\n",
    "\n",
    "x = df_train[df_train.brand_name.isin(filtro)]['brand_name']\n",
    "y = df_train[df_train.brand_name.isin(filtro)]['price'].values\n",
    "\n",
    "\n",
    "ax = sns.boxplot(x, y)\n",
    "ax.set_ylim([0, 200])   \n",
    "plt.title('Distribuição dos preços por marca')\n",
    "ax.set(xlabel='Brand', ylabel='Price')"
   ]
  },
  {
   "cell_type": "markdown",
   "metadata": {},
   "source": [
    "Supondo que o nível 0 é a categoria principal, vemos que existem 10 categorias e que a de maior frequência é a de 'women'"
   ]
  },
  {
   "cell_type": "code",
   "execution_count": 36,
   "metadata": {},
   "outputs": [
    {
     "data": {
      "image/png": "[encoded data removed]",
      "text/plain": [
       "<Figure size 1440x288 with 1 Axes>"
      ]
     },
     "metadata": {},
     "output_type": "display_data"
    }
   ],
   "source": [
    "x = df_train['cat_level_0'].value_counts().index.values.astype('str')\n",
    "y = df_train['cat_level_0'].value_counts().values\n",
    "\n",
    "sns.set(rc={'figure.figsize':(20, 4)})\n",
    "plt.bar(x,y)\n",
    "plt.show()"
   ]
  },
  {
   "cell_type": "markdown",
   "metadata": {},
   "source": [
    "Top 10 categorias do nível 2:"
   ]
  },
  {
   "cell_type": "code",
   "execution_count": 37,
   "metadata": {},
   "outputs": [
    {
     "data": {
      "image/png": "[encoded data removed]",
      "text/plain": [
       "<Figure size 1440x288 with 1 Axes>"
      ]
     },
     "metadata": {},
     "output_type": "display_data"
    }
   ],
   "source": [
    "x = df_train['cat_level_1'].value_counts().index.values.astype('str')[:10]\n",
    "y = df_train['cat_level_1'].value_counts().values[:10]\n",
    "\n",
    "sns.set(rc={'figure.figsize':(20, 4)})\n",
    "plt.bar(x,y)\n",
    "plt.show()"
   ]
  },
  {
   "cell_type": "markdown",
   "metadata": {},
   "source": [
    "Top 10 categorias nível 3"
   ]
  },
  {
   "cell_type": "code",
   "execution_count": 38,
   "metadata": {},
   "outputs": [
    {
     "data": {
      "image/png": "[encoded data removed]",
      "text/plain": [
       "<Figure size 1440x288 with 1 Axes>"
      ]
     },
     "metadata": {},
     "output_type": "display_data"
    }
   ],
   "source": [
    "x = df_train['cat_level_2'].value_counts().index.values.astype('str')[:10]\n",
    "y = df_train['cat_level_2'].value_counts().values[:10]\n",
    "\n",
    "sns.set(rc={'figure.figsize':(20, 4)})\n",
    "plt.bar(x,y)\n",
    "plt.show()"
   ]
  },
  {
   "cell_type": "markdown",
   "metadata": {},
   "source": [
    "Vendo aque a grande maioria dos itens estão do top 10 do nível de categoria 1, 2 e 3, vamos substituir as demais categorias pela palavra 'others'.\n",
    "\n",
    "Faremos o mesmo processo para a variável brand, porém pegando o top 50."
   ]
  },
  {
   "cell_type": "code",
   "execution_count": 39,
   "metadata": {},
   "outputs": [
    {
     "data": {
      "text/html": [
       "<div>\n",
       "<style scoped>\n",
       "    .dataframe tbody tr th:only-of-type {\n",
       "        vertical-align: middle;\n",
       "    }\n",
       "\n",
       "    .dataframe tbody tr th {\n",
       "        vertical-align: top;\n",
       "    }\n",
       "\n",
       "    .dataframe thead th {\n",
       "        text-align: right;\n",
       "    }\n",
       "</style>\n",
       "<table border=\"1\" class=\"dataframe\">\n",
       "  <thead>\n",
       "    <tr style=\"text-align: right;\">\n",
       "      <th></th>\n",
       "      <th>train_id</th>\n",
       "      <th>name</th>\n",
       "      <th>item_condition_id</th>\n",
       "      <th>category_name</th>\n",
       "      <th>brand_name</th>\n",
       "      <th>price</th>\n",
       "      <th>shipping</th>\n",
       "      <th>item_description</th>\n",
       "      <th>log_price</th>\n",
       "      <th>description_length</th>\n",
       "      <th>description_boolean</th>\n",
       "      <th>cat_level_0</th>\n",
       "      <th>cat_level_1</th>\n",
       "      <th>cat_level_2</th>\n",
       "    </tr>\n",
       "  </thead>\n",
       "  <tbody>\n",
       "    <tr>\n",
       "      <th>0</th>\n",
       "      <td>0</td>\n",
       "      <td>MLB Cincinnati Reds T Shirt Size XL</td>\n",
       "      <td>3</td>\n",
       "      <td>Men/Tops/T-shirts</td>\n",
       "      <td>others_brand</td>\n",
       "      <td>10.0</td>\n",
       "      <td>1</td>\n",
       "      <td>No description yet</td>\n",
       "      <td>2.397895</td>\n",
       "      <td>0</td>\n",
       "      <td>0</td>\n",
       "      <td>Men</td>\n",
       "      <td>others</td>\n",
       "      <td>others</td>\n",
       "    </tr>\n",
       "    <tr>\n",
       "      <th>1</th>\n",
       "      <td>1</td>\n",
       "      <td>Razer BlackWidow Chroma Keyboard</td>\n",
       "      <td>3</td>\n",
       "      <td>Electronics/Computers &amp; Tablets/Components &amp; P...</td>\n",
       "      <td>others_brand</td>\n",
       "      <td>52.0</td>\n",
       "      <td>0</td>\n",
       "      <td>This keyboard is in great condition and works ...</td>\n",
       "      <td>3.970292</td>\n",
       "      <td>18</td>\n",
       "      <td>1</td>\n",
       "      <td>Electronics</td>\n",
       "      <td>others</td>\n",
       "      <td>others</td>\n",
       "    </tr>\n",
       "    <tr>\n",
       "      <th>2</th>\n",
       "      <td>2</td>\n",
       "      <td>AVA-VIV Blouse</td>\n",
       "      <td>1</td>\n",
       "      <td>Women/Tops &amp; Blouses/Blouse</td>\n",
       "      <td>others_brand</td>\n",
       "      <td>10.0</td>\n",
       "      <td>1</td>\n",
       "      <td>Adorable top with a hint of lace and a key hol...</td>\n",
       "      <td>2.397895</td>\n",
       "      <td>14</td>\n",
       "      <td>1</td>\n",
       "      <td>Women</td>\n",
       "      <td>Tops &amp; Blouses</td>\n",
       "      <td>others</td>\n",
       "    </tr>\n",
       "    <tr>\n",
       "      <th>3</th>\n",
       "      <td>3</td>\n",
       "      <td>Leather Horse Statues</td>\n",
       "      <td>1</td>\n",
       "      <td>Home/Home Décor/Home Décor Accents</td>\n",
       "      <td>others_brand</td>\n",
       "      <td>35.0</td>\n",
       "      <td>1</td>\n",
       "      <td>New with tags. Leather horses. Retail for [rm]...</td>\n",
       "      <td>3.583519</td>\n",
       "      <td>18</td>\n",
       "      <td>1</td>\n",
       "      <td>Home</td>\n",
       "      <td>others</td>\n",
       "      <td>others</td>\n",
       "    </tr>\n",
       "    <tr>\n",
       "      <th>4</th>\n",
       "      <td>4</td>\n",
       "      <td>24K GOLD plated rose</td>\n",
       "      <td>1</td>\n",
       "      <td>Women/Jewelry/Necklaces</td>\n",
       "      <td>others_brand</td>\n",
       "      <td>44.0</td>\n",
       "      <td>0</td>\n",
       "      <td>Complete with certificate of authenticity</td>\n",
       "      <td>3.806662</td>\n",
       "      <td>3</td>\n",
       "      <td>1</td>\n",
       "      <td>Women</td>\n",
       "      <td>Jewelry</td>\n",
       "      <td>others</td>\n",
       "    </tr>\n",
       "  </tbody>\n",
       "</table>\n",
       "</div>"
      ],
      "text/plain": [
       "   train_id                                 name  item_condition_id  \\\n",
       "0         0  MLB Cincinnati Reds T Shirt Size XL                  3   \n",
       "1         1     Razer BlackWidow Chroma Keyboard                  3   \n",
       "2         2                       AVA-VIV Blouse                  1   \n",
       "3         3                Leather Horse Statues                  1   \n",
       "4         4                 24K GOLD plated rose                  1   \n",
       "\n",
       "                                       category_name    brand_name  price  \\\n",
       "0                                  Men/Tops/T-shirts  others_brand   10.0   \n",
       "1  Electronics/Computers & Tablets/Components & P...  others_brand   52.0   \n",
       "2                        Women/Tops & Blouses/Blouse  others_brand   10.0   \n",
       "3                 Home/Home Décor/Home Décor Accents  others_brand   35.0   \n",
       "4                            Women/Jewelry/Necklaces  others_brand   44.0   \n",
       "\n",
       "   shipping                                   item_description  log_price  \\\n",
       "0         1                                 No description yet   2.397895   \n",
       "1         0  This keyboard is in great condition and works ...   3.970292   \n",
       "2         1  Adorable top with a hint of lace and a key hol...   2.397895   \n",
       "3         1  New with tags. Leather horses. Retail for [rm]...   3.583519   \n",
       "4         0          Complete with certificate of authenticity   3.806662   \n",
       "\n",
       "   description_length  description_boolean  cat_level_0     cat_level_1  \\\n",
       "0                   0                    0          Men          others   \n",
       "1                  18                    1  Electronics          others   \n",
       "2                  14                    1        Women  Tops & Blouses   \n",
       "3                  18                    1         Home          others   \n",
       "4                   3                    1        Women         Jewelry   \n",
       "\n",
       "  cat_level_2  \n",
       "0      others  \n",
       "1      others  \n",
       "2      others  \n",
       "3      others  \n",
       "4      others  "
      ]
     },
     "execution_count": 39,
     "metadata": {},
     "output_type": "execute_result"
    }
   ],
   "source": [
    "train = df_train\n",
    "\n",
    "#cat_level_0\n",
    "x_cat_level_0=train['cat_level_0'].value_counts().index.values.astype('str')[:10]\n",
    "train.loc[~train.cat_level_0.isin(x_cat_level_0),'cat_level_0'] = \"others\"\n",
    "\n",
    "\n",
    "#cat_level_1l\n",
    "x_cat_level_1=train['cat_level_1'].value_counts().index.values.astype('str')[:10]\n",
    "train.loc[~train.cat_level_1.isin(x_cat_level_1),'cat_level_1'] = \"others\"\n",
    "\n",
    "#cat_level_2\n",
    "x_cat_level_2=train['cat_level_2'].value_counts().index.values.astype('str')[:10]\n",
    "train.loc[~train.cat_level_2.isin(x_cat_level_2),'cat_level_2'] = 'others'\n",
    "\n",
    "x_brand = train['brand_name'].value_counts().index.values.astype('str')[:50]\n",
    "train.loc[~train.brand_name.isin(x_brand),'brand_name'] = 'others_brand'\n",
    "\n",
    "train.head()"
   ]
  },
  {
   "cell_type": "markdown",
   "metadata": {},
   "source": [
    "## Modelagem"
   ]
  },
  {
   "cell_type": "code",
   "execution_count": 40,
   "metadata": {
    "scrolled": true
   },
   "outputs": [],
   "source": [
    "train = pd.get_dummies(data=train, columns=['item_condition_id','cat_level_0','cat_level_1','cat_level_2','brand_name'], \n",
    "                       prefix=['condition_id',\"Cat_0\",'Cat_1','Cat_2','brand'] )"
   ]
  },
  {
   "cell_type": "markdown",
   "metadata": {},
   "source": [
    "Filtrar as colunas que serão usadas na modelagem:"
   ]
  },
  {
   "cell_type": "code",
   "execution_count": 41,
   "metadata": {},
   "outputs": [
    {
     "name": "stdout",
     "output_type": "stream",
     "text": [
      "Shape preditoras treino: (1482535, 92)\n",
      "Shape resposta treino: (1482535,)\n"
     ]
    }
   ],
   "source": [
    "not_colunas = ['train_id','price','log_price','name','category_name','brand_name','item_description','item_condition_id']\n",
    "X_train = train.loc[:, ~train.columns.isin(not_colunas)]\n",
    "y_train =  train.log_price\n",
    "\n",
    "print('Shape preditoras treino:', X_train.shape)\n",
    "print('Shape resposta treino:', y_train.shape)\n"
   ]
  },
  {
   "cell_type": "code",
   "execution_count": 42,
   "metadata": {},
   "outputs": [
    {
     "data": {
      "text/html": [
       "<div>\n",
       "<style scoped>\n",
       "    .dataframe tbody tr th:only-of-type {\n",
       "        vertical-align: middle;\n",
       "    }\n",
       "\n",
       "    .dataframe tbody tr th {\n",
       "        vertical-align: top;\n",
       "    }\n",
       "\n",
       "    .dataframe thead th {\n",
       "        text-align: right;\n",
       "    }\n",
       "</style>\n",
       "<table border=\"1\" class=\"dataframe\">\n",
       "  <thead>\n",
       "    <tr style=\"text-align: right;\">\n",
       "      <th></th>\n",
       "      <th>shipping</th>\n",
       "      <th>description_length</th>\n",
       "      <th>description_boolean</th>\n",
       "      <th>condition_id_1</th>\n",
       "      <th>condition_id_2</th>\n",
       "      <th>condition_id_3</th>\n",
       "      <th>condition_id_4</th>\n",
       "      <th>condition_id_5</th>\n",
       "      <th>Cat_0_Beauty</th>\n",
       "      <th>Cat_0_Electronics</th>\n",
       "      <th>...</th>\n",
       "      <th>brand_Too Faced</th>\n",
       "      <th>brand_Tory Burch</th>\n",
       "      <th>brand_UGG Australia</th>\n",
       "      <th>brand_Under Armour</th>\n",
       "      <th>brand_Urban Decay</th>\n",
       "      <th>brand_VANS</th>\n",
       "      <th>brand_Vera Bradley</th>\n",
       "      <th>brand_Victoria's Secret</th>\n",
       "      <th>brand_Xbox</th>\n",
       "      <th>brand_others_brand</th>\n",
       "    </tr>\n",
       "  </thead>\n",
       "  <tbody>\n",
       "    <tr>\n",
       "      <th>0</th>\n",
       "      <td>1</td>\n",
       "      <td>0</td>\n",
       "      <td>0</td>\n",
       "      <td>0</td>\n",
       "      <td>0</td>\n",
       "      <td>1</td>\n",
       "      <td>0</td>\n",
       "      <td>0</td>\n",
       "      <td>0</td>\n",
       "      <td>0</td>\n",
       "      <td>...</td>\n",
       "      <td>0</td>\n",
       "      <td>0</td>\n",
       "      <td>0</td>\n",
       "      <td>0</td>\n",
       "      <td>0</td>\n",
       "      <td>0</td>\n",
       "      <td>0</td>\n",
       "      <td>0</td>\n",
       "      <td>0</td>\n",
       "      <td>1</td>\n",
       "    </tr>\n",
       "    <tr>\n",
       "      <th>1</th>\n",
       "      <td>0</td>\n",
       "      <td>18</td>\n",
       "      <td>1</td>\n",
       "      <td>0</td>\n",
       "      <td>0</td>\n",
       "      <td>1</td>\n",
       "      <td>0</td>\n",
       "      <td>0</td>\n",
       "      <td>0</td>\n",
       "      <td>1</td>\n",
       "      <td>...</td>\n",
       "      <td>0</td>\n",
       "      <td>0</td>\n",
       "      <td>0</td>\n",
       "      <td>0</td>\n",
       "      <td>0</td>\n",
       "      <td>0</td>\n",
       "      <td>0</td>\n",
       "      <td>0</td>\n",
       "      <td>0</td>\n",
       "      <td>1</td>\n",
       "    </tr>\n",
       "    <tr>\n",
       "      <th>2</th>\n",
       "      <td>1</td>\n",
       "      <td>14</td>\n",
       "      <td>1</td>\n",
       "      <td>1</td>\n",
       "      <td>0</td>\n",
       "      <td>0</td>\n",
       "      <td>0</td>\n",
       "      <td>0</td>\n",
       "      <td>0</td>\n",
       "      <td>0</td>\n",
       "      <td>...</td>\n",
       "      <td>0</td>\n",
       "      <td>0</td>\n",
       "      <td>0</td>\n",
       "      <td>0</td>\n",
       "      <td>0</td>\n",
       "      <td>0</td>\n",
       "      <td>0</td>\n",
       "      <td>0</td>\n",
       "      <td>0</td>\n",
       "      <td>1</td>\n",
       "    </tr>\n",
       "    <tr>\n",
       "      <th>3</th>\n",
       "      <td>1</td>\n",
       "      <td>18</td>\n",
       "      <td>1</td>\n",
       "      <td>1</td>\n",
       "      <td>0</td>\n",
       "      <td>0</td>\n",
       "      <td>0</td>\n",
       "      <td>0</td>\n",
       "      <td>0</td>\n",
       "      <td>0</td>\n",
       "      <td>...</td>\n",
       "      <td>0</td>\n",
       "      <td>0</td>\n",
       "      <td>0</td>\n",
       "      <td>0</td>\n",
       "      <td>0</td>\n",
       "      <td>0</td>\n",
       "      <td>0</td>\n",
       "      <td>0</td>\n",
       "      <td>0</td>\n",
       "      <td>1</td>\n",
       "    </tr>\n",
       "    <tr>\n",
       "      <th>4</th>\n",
       "      <td>0</td>\n",
       "      <td>3</td>\n",
       "      <td>1</td>\n",
       "      <td>1</td>\n",
       "      <td>0</td>\n",
       "      <td>0</td>\n",
       "      <td>0</td>\n",
       "      <td>0</td>\n",
       "      <td>0</td>\n",
       "      <td>0</td>\n",
       "      <td>...</td>\n",
       "      <td>0</td>\n",
       "      <td>0</td>\n",
       "      <td>0</td>\n",
       "      <td>0</td>\n",
       "      <td>0</td>\n",
       "      <td>0</td>\n",
       "      <td>0</td>\n",
       "      <td>0</td>\n",
       "      <td>0</td>\n",
       "      <td>1</td>\n",
       "    </tr>\n",
       "  </tbody>\n",
       "</table>\n",
       "<p>5 rows × 92 columns</p>\n",
       "</div>"
      ],
      "text/plain": [
       "   shipping  description_length  description_boolean  condition_id_1  \\\n",
       "0         1                   0                    0               0   \n",
       "1         0                  18                    1               0   \n",
       "2         1                  14                    1               1   \n",
       "3         1                  18                    1               1   \n",
       "4         0                   3                    1               1   \n",
       "\n",
       "   condition_id_2  condition_id_3  condition_id_4  condition_id_5  \\\n",
       "0               0               1               0               0   \n",
       "1               0               1               0               0   \n",
       "2               0               0               0               0   \n",
       "3               0               0               0               0   \n",
       "4               0               0               0               0   \n",
       "\n",
       "   Cat_0_Beauty  Cat_0_Electronics  ...  brand_Too Faced  brand_Tory Burch  \\\n",
       "0             0                  0  ...                0                 0   \n",
       "1             0                  1  ...                0                 0   \n",
       "2             0                  0  ...                0                 0   \n",
       "3             0                  0  ...                0                 0   \n",
       "4             0                  0  ...                0                 0   \n",
       "\n",
       "   brand_UGG Australia  brand_Under Armour  brand_Urban Decay  brand_VANS  \\\n",
       "0                    0                   0                  0           0   \n",
       "1                    0                   0                  0           0   \n",
       "2                    0                   0                  0           0   \n",
       "3                    0                   0                  0           0   \n",
       "4                    0                   0                  0           0   \n",
       "\n",
       "   brand_Vera Bradley  brand_Victoria's Secret  brand_Xbox  brand_others_brand  \n",
       "0                   0                        0           0                   1  \n",
       "1                   0                        0           0                   1  \n",
       "2                   0                        0           0                   1  \n",
       "3                   0                        0           0                   1  \n",
       "4                   0                        0           0                   1  \n",
       "\n",
       "[5 rows x 92 columns]"
      ]
     },
     "execution_count": 42,
     "metadata": {},
     "output_type": "execute_result"
    }
   ],
   "source": [
    "X_train.head(5)"
   ]
  },
  {
   "cell_type": "markdown",
   "metadata": {},
   "source": [
    "Dividir em treino e teste. Sendo 20% para teste e 80% para treino."
   ]
  },
  {
   "cell_type": "code",
   "execution_count": 43,
   "metadata": {},
   "outputs": [],
   "source": [
    "X_train, X_test, y_train, y_test = train_test_split(X_train, y_train, test_size=0.2, random_state=0)"
   ]
  },
  {
   "cell_type": "markdown",
   "metadata": {},
   "source": [
    "**Lightgbm**"
   ]
  },
  {
   "cell_type": "code",
   "execution_count": 46,
   "metadata": {},
   "outputs": [],
   "source": [
    "X_train_dataset = lgb.Dataset(X_train, label=y_train)"
   ]
  },
  {
   "cell_type": "code",
   "execution_count": 47,
   "metadata": {},
   "outputs": [],
   "source": [
    "params = {\n",
    "        'learning_rate': 0.75,\n",
    "        'application': 'regression',\n",
    "        'max_depth': 3,\n",
    "        'num_leaves': 100,\n",
    "        'verbosity': -1,\n",
    "        'metric': 'RMSE',\n",
    "    }\n",
    "\n",
    "gbm = lgb.train(params, train_set=X_train_dataset, num_boost_round=3200, verbose_eval=100)\n",
    "\n",
    "predictions_lgbm = gbm.predict(X_test, num_iteration=gbm.best_iteration)"
   ]
  },
  {
   "cell_type": "markdown",
   "metadata": {},
   "source": [
    "Métricas de validação:"
   ]
  },
  {
   "cell_type": "code",
   "execution_count": 48,
   "metadata": {},
   "outputs": [
    {
     "name": "stdout",
     "output_type": "stream",
     "text": [
      "Mean Absolute Error: 0.46774865413677386\n",
      "Mean Squared Error: 0.37722639586680057\n",
      "Root Mean Squared Error: 0.6141875901276421\n",
      "R2: 0.3232812111195118\n"
     ]
    }
   ],
   "source": [
    "print('Mean Absolute Error:', metrics.mean_absolute_error(y_test, predictions_lgbm))  \n",
    "print('Mean Squared Error:', metrics.mean_squared_error(y_test, predictions_lgbm))  \n",
    "print('Root Mean Squared Error:', np.sqrt(metrics.mean_squared_error(y_test, predictions_lgbm)))\n",
    "print('R2:',metrics.r2_score(y_test, predictions_lgbm))"
   ]
  }
 ],
 "metadata": {
  "kernelspec": {
   "display_name": "Python 3",
   "language": "python",
   "name": "python3"
  },
  "language_info": {
   "codemirror_mode": {
    "name": "ipython",
    "version": 3
   },
   "file_extension": ".py",
   "mimetype": "text/x-python",
   "name": "python",
   "nbconvert_exporter": "python",
   "pygments_lexer": "ipython3",
   "version": "3.7.6"
  }
 },
 "nbformat": 4,
 "nbformat_minor": 4
}
